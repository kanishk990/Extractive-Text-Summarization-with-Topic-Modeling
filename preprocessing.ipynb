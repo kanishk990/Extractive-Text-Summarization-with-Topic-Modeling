{
 "cells": [
  {
   "cell_type": "code",
   "execution_count": 9,
   "id": "8b3d83f5",
   "metadata": {
    "scrolled": false
   },
   "outputs": [],
   "source": [
    "#reading the file \n",
    "from pathlib import Path\n",
    "\n",
    "file_path = Path(r\"C:\\Users\\kanis\\Major-Project\\wikihowRawArticles\\article01\")\n",
    "f = open(file_path)"
   ]
  },
  {
   "cell_type": "code",
   "execution_count": 10,
   "id": "4139e0b5",
   "metadata": {},
   "outputs": [],
   "source": [
    "#to trim all the steps from the clutter\n",
    "def findsteps():\n",
    "    print(\"got steps\")"
   ]
  },
  {
   "cell_type": "code",
   "execution_count": 11,
   "id": "a4c8f978",
   "metadata": {
    "scrolled": false
   },
   "outputs": [],
   "source": [
    "#taking the only steps \n",
    "Lines = f.readlines()\n",
    "\n",
    "\n",
    "#open the file that will contain the refernce summary \n",
    "file2 = open(r\"C:\\Users\\kanis\\Major-Project\\References\\ref01.txt\",\"w+\")\n",
    "\n",
    "for line in Lines :\n",
    "    if line[0] == '#'and line[1]!='*':\n",
    "        material = \"\"\n",
    "        temp = 1\n",
    "        for char in line :\n",
    "            if temp == 1 :\n",
    "                temp =0  #check to remove hash \n",
    "            else :\n",
    "                material += char\n",
    "            if char == '.':\n",
    "                break;\n",
    "        file2.write(material) #writing the reference summary into the file that was opened\n",
    "file2.close()\n"
   ]
  },
  {
   "cell_type": "code",
   "execution_count": 14,
   "id": "bb207019",
   "metadata": {
    "scrolled": true
   },
   "outputs": [
    {
     "name": "stdout",
     "output_type": "stream",
     "text": [
      "Possibly the easiest thing you can do is watch television shows or movies in the language you are trying to learn. Try to avoid subtitles, so you donâ€™t develop a reliance on them. To make things easier, try to watch shows or movies whose plots you are already familiar withâ€”like kids' cartoons or dubbed versions of English movieâ€”knowing the context will help you to decipher the meanings of words and phrases.<ref>https://www.bbc.com/worklife/article/20150302-secrets-to-learning-a-language</ref>[[Image:Learn a New Language Fast Step 4 Version 3.jpg|center]]\n",
      "\n",
      "As your language level progresses, you can move on to more advanced reading material like newspapers and magazines. When you read out loud, rather than silently, you can work on both your overall reading comprehension and pronunciation skills. Rather than trying to translate each phrase, force yourself to think in the language you're reading.<ref>https://www.icls.edu/how-to-improve-your-reading-skills-while-learning-a-second-language/</ref>\n",
      "\n",
      "Mastering everyday conversation will let you hit the ground running. Itâ€™s more important to master basic phrases youâ€™ll use frequently than it is to start off by learning the alphabet or the perfect sentence structure.<ref>https://www.bbc.com/worklife/article/20150302-secrets-to-learning-a-language</ref> [[Image:Learn a New Language Fast Step 6 Version 4.jpg|center]]\n",
      "\n",
      "Mastering basic vocabulary is probably one of the most important things you can do when learning a new language. Even if you can't understand whole sentences, the ability to pick out keywords can help you to understand the general meaning of a speech or text.<ref>[v161744_b01]. 19 March 2021.</ref>[[Image:Learn a New Language Fast Step 8 Version 2.jpg|center]]\n",
      "\n",
      "There's no point in memorizing hundreds of words and phrases if you pronounce them so oddly that they can't be understood. Therefore, it's important that when you learn a word, you learn the pronunciation simultaneously.[[Image:Learn a New Language Fast Step 11 Version 3.jpg|center]]\n",
      "\n",
      "The reason why most people can't remember most of the language they spent years learning in school is that school curricula tend to focus a huge amount of time on learning grammar and very little time on speech (or \"comprehensible output\"). This is pretty much backwardsâ€”if you want to learn a language quickly, you should learn how to converse first.<ref>https://learningcenter.unc.edu/tips-and-tools/learning-a-second-language/</ref> The specifics of grammar will come later.[[Image:Learn a New Language Fast Step 10 Version 3.jpg|center]]\n",
      "\n",
      "Start off with clear goals.<ref>https://blog.ted.com/how-to-learn-a-new-language-7-secrets-from-ted-translators/</ref> Try learning to count to ten since 1-10 is usually the easiest thing to memorize at first. Each day learn a new set of ten numbers, keep going each day until you are satisfied with how high you can count. If you are up for a challenge, memorize all the numbers up to one hundred in one day.[[Image:Learn a New Language Fast Step 9 Version 2.jpg|center]]\n",
      "\n",
      "In turn, better reading and pronunciation can help you memorize words with greater ease.<ref>https://learningcenter.unc.edu/tips-and-tools/learning-a-second-language/</ref> Plus, it is better for you to be sounding the words out rather than looking at the romanization for the words.[[Image:Learn a New Language Fast Step 7 Version 4.jpg|center]]\n",
      "\n",
      "Too often, people spend all of their time studying grammar and memorizing lists of words instead of actually going out there and putting what they've learned into practice. Speaking with a real, live person will help you to feel much more motivated about learning the language than staring at a book or computer screen.<ref>[v161744_b01]. 19 March 2021.</ref>[[Image:Learn a New Language Fast Step 1 Version 3.jpg|center]]\n",
      "\n",
      "Carrying a dictionary will allow you to find the necessary word at a moment's notice. This is especially important when you are having a conversation with a native speaker and don't wish to disrupt the flow of conversation by not being able to remember a word. In addition, looking up the word and using it immediately in a sentence will help you to commit the word to memory.<ref>https://www.middlebury.edu/institute/news/summer-intensive-language-program-offers-31-tips-learning-language</ref>[[Image:Learn a New Language Fast Step 3 Version 3.jpg|center]]\n",
      "\n",
      "Most language learning apps offer both a free version and a pro/premium version with more access to additional lessons and features. Weâ€™ll breakdown each app below:[[Image:Learn a New Language Fast Step 14 Version 3.jpg|center]]\n",
      "\n",
      "People often claim to have studied a language \"for five years\" and still not be fluent. But when they say five years, they probably mean that they studied the language for only a couple of hours a week over that entire time period. If you want to learn a new language ''quickly'' (that is, in the space of a few weeks or months), you're going to have to commit to studying the language for a couple of hours ''per day''.<ref>[v161744_b01]. 19 March 2021.</ref>[[Image:Learn a New Language Fast Step 2 Version 3.jpg|center]]\n",
      "\n",
      "When you're learning a new language youâ€™ll get further if youâ€™re okay with making mistakes and learning from them.<ref>[v161744_b01]. 19 March 2021.</ref> You might find yourself in situations where you donâ€™t quite know the right word, or you donâ€™t understand 100% of what the other personâ€™s saying. Thatâ€™s all a normal part of the language-learning process.[[Image:Learn a New Language Fast Step 12 Version 3.jpg|center]]\n",
      "\n",
      "If you can visit and spend some time in a country where your new language is spoken, youâ€™ll get to connect with native speakers. Learning a language within the context of culture and everyday life can boost your motivation and offer hands-on learning experiences.<ref>https://www.theguardian.com/education/2014/oct/30/learning-another-language-ten-tips</ref>[[Image:Learn a New Language Fast Step 5 Version 3.jpg|center]]\n",
      "\n"
     ]
    }
   ],
   "source": [
    "#extracting the raw material for the summary generation from the preprocessed \n",
    "\n",
    "\n",
    "for line in Lines :\n",
    "    if line[0]=='#'and line[1]!='*':\n",
    "        material = \"\"\n",
    "        temp = 1 \n",
    "        for char in line :\n",
    "            if temp == 1 :\n",
    "                if char != '.' :\n",
    "                    continue;\n",
    "                else :\n",
    "                    temp = 0\n",
    "            else :\n",
    "                material+=char\n",
    "        print(material.lstrip())"
   ]
  },
  {
   "cell_type": "code",
   "execution_count": null,
   "id": "17236e8e",
   "metadata": {},
   "outputs": [],
   "source": []
  }
 ],
 "metadata": {
  "kernelspec": {
   "display_name": "Python 3",
   "language": "python",
   "name": "python3"
  },
  "language_info": {
   "codemirror_mode": {
    "name": "ipython",
    "version": 3
   },
   "file_extension": ".py",
   "mimetype": "text/x-python",
   "name": "python",
   "nbconvert_exporter": "python",
   "pygments_lexer": "ipython3",
   "version": "3.8.8"
  }
 },
 "nbformat": 4,
 "nbformat_minor": 5
}
