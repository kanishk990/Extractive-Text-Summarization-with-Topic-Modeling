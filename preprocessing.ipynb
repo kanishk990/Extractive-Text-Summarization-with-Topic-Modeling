{
 "cells": [
  {
   "cell_type": "code",
   "execution_count": 66,
   "id": "8b3d83f5",
   "metadata": {
    "scrolled": false
   },
   "outputs": [],
   "source": [
    "#reading the file \n",
    "\n",
    "from pathlib import Path\n",
    "\n",
    "file_path = Path(r\"C:\\Users\\kanis\\Major-Project\\wikihowRawArticles\\article01\")\n",
    "f = open(file_path)"
   ]
  },
  {
   "cell_type": "code",
   "execution_count": 67,
   "id": "4139e0b5",
   "metadata": {},
   "outputs": [],
   "source": [
    "#to trim all the steps from the clutter\n",
    "def findsteps():\n",
    "    print(\"got steps\")"
   ]
  },
  {
   "cell_type": "code",
   "execution_count": 68,
   "id": "a4c8f978",
   "metadata": {
    "scrolled": false
   },
   "outputs": [],
   "source": [
    "#taking the only steps \n",
    "Lines = f.readlines()\n",
    "\n",
    "\n",
    "#open the file that will contain the refernce summary \n",
    "file2 = open(r\"C:\\Users\\kanis\\Major-Project\\References\\ref01.txt\",\"w+\")\n",
    "\n",
    "for line in Lines :\n",
    "    if line[0] == '#'and line[1]!='*':\n",
    "        material = \"\"\n",
    "        temp = 1\n",
    "        for char in line :\n",
    "            if temp == 1 :\n",
    "                temp =0  #check to remove hash \n",
    "            else :\n",
    "                material += char\n",
    "            if char == '.':\n",
    "                break;\n",
    "        file2.write(material) #writing the reference summary into the file that was opened\n",
    "file2.close()\n"
   ]
  },
  {
   "cell_type": "code",
   "execution_count": 69,
   "id": "bb207019",
   "metadata": {
    "scrolled": true
   },
   "outputs": [
    {
     "name": "stdout",
     "output_type": "stream",
     "text": [
      "Possibly the easiest thing you can do is watch television shows or movies in the language you are trying to learn. Try to avoid subtitles, so you donâ€™t develop a reliance on them. To make things easier, try to watch shows or movies whose plots you are already familiar withâ€”like kids' cartoons or dubbed versions of English movieâ€”knowing the context will help you to decipher the meanings of words and phrases.\n",
      "\n",
      "As your language level progresses, you can move on to more advanced reading material like newspapers and magazines. When you read out loud, rather than silently, you can work on both your overall reading comprehension and pronunciation skills. Rather than trying to translate each phrase, force yourself to think in the language you're reading.\n",
      "\n",
      "Mastering everyday conversation will let you hit the ground running. Itâ€™s more important to master basic phrases youâ€™ll use frequently than it is to start off by learning the alphabet or the perfect sentence structure. \n",
      "\n",
      "Mastering basic vocabulary is probably one of the most important things you can do when learning a new language. Even if you can't understand whole sentences, the ability to pick out keywords can help you to understand the general meaning of a speech or text.\n",
      "\n",
      "There's no point in memorizing hundreds of words and phrases if you pronounce them so oddly that they can't be understood. Therefore, it's important that when you learn a word, you learn the pronunciation simultaneously.\n",
      "\n",
      "The reason why most people can't remember most of the language they spent years learning in school is that school curricula tend to focus a huge amount of time on learning grammar and very little time on speech (or \"comprehensible output\"). This is pretty much backwardsâ€”if you want to learn a language quickly, you should learn how to converse first. The specifics of grammar will come later.\n",
      "\n",
      "Start off with clear goals. Try learning to count to ten since 1-10 is usually the easiest thing to memorize at first. Each day learn a new set of ten numbers, keep going each day until you are satisfied with how high you can count. If you are up for a challenge, memorize all the numbers up to one hundred in one day.\n",
      "\n",
      "In turn, better reading and pronunciation can help you memorize words with greater ease. Plus, it is better for you to be sounding the words out rather than looking at the romanization for the words.\n",
      "\n",
      "Too often, people spend all of their time studying grammar and memorizing lists of words instead of actually going out there and putting what they've learned into practice. Speaking with a real, live person will help you to feel much more motivated about learning the language than staring at a book or computer screen.\n",
      "\n",
      "Carrying a dictionary will allow you to find the necessary word at a moment's notice. This is especially important when you are having a conversation with a native speaker and don't wish to disrupt the flow of conversation by not being able to remember a word. In addition, looking up the word and using it immediately in a sentence will help you to commit the word to memory.\n",
      "\n",
      "Most language learning apps offer both a free version and a pro/premium version with more access to additional lessons and features. Weâ€™ll breakdown each app below:\n",
      "\n",
      "People often claim to have studied a language \"for five years\" and still not be fluent. But when they say five years, they probably mean that they studied the language for only a couple of hours a week over that entire time period. If you want to learn a new language ''quickly'' (that is, in the space of a few weeks or months), you're going to have to commit to studying the language for a couple of hours ''per day''.\n",
      "\n",
      "When you're learning a new language youâ€™ll get further if youâ€™re okay with making mistakes and learning from them. You might find yourself in situations where you donâ€™t quite know the right word, or you donâ€™t understand 100% of what the other personâ€™s saying. Thatâ€™s all a normal part of the language-learning process.\n",
      "\n",
      "If you can visit and spend some time in a country where your new language is spoken, youâ€™ll get to connect with native speakers. Learning a language within the context of culture and everyday life can boost your motivation and offer hands-on learning experiences.\n",
      "\n"
     ]
    }
   ],
   "source": [
    "#extracting the raw material for the summary generation from the preprocessed \n",
    "\n",
    "file3 = open(r\"C:\\Users\\kanis\\Major-Project\\Intermediate\\itm01.txt\",\"w+\")\n",
    "\n",
    "\n",
    "intermediatelist = []\n",
    "for line in Lines :\n",
    "    if line[0]=='#'and line[1]!='*':\n",
    "        material = \"\"\n",
    "        temp = 1 \n",
    "        for char in line :\n",
    "            if temp == 1 :\n",
    "                if char != '.' :\n",
    "                    continue;\n",
    "                else :\n",
    "                    temp = 0\n",
    "            else :\n",
    "                if char=='â€™':\n",
    "                    char = \"'\"\n",
    "                material+= char   \n",
    "        \n",
    "        intermediatelist.append(material.lstrip())\n",
    "        #file3.write(material.lstrip())\n",
    "        \n",
    "####now remove garbage from the intermediary file####\n",
    "\n",
    "secondlist =[]\n",
    "#removing the hyperlinks\n",
    "for point in intermediatelist :\n",
    "    material = \"\"\n",
    "    i = 0\n",
    "    j = 1\n",
    "    while i<len(point):\n",
    "        if point[i]=='<' and point[j]=='r':\n",
    "            i=i+4\n",
    "            j=j+4\n",
    "            while point[i]!=f and point[j]!='>':\n",
    "                i=i+1\n",
    "                j=j+1\n",
    "            i=i+2 \n",
    "            j=j+2\n",
    "        if i<len(point):\n",
    "            material += point[i]\n",
    "        i=i+1\n",
    "        j=j+1\n",
    "    secondlist.append(material)\n",
    "\n",
    "thirdlist  = []\n",
    "#for removal of image alts \n",
    "for point in secondlist :\n",
    "    material = \"\"\n",
    "    i=0\n",
    "    j=1\n",
    "    while i<len(point) :\n",
    "        if point[i]=='[' and point[j]=='[':\n",
    "            while point[i]!=']' and point[j]!=']':\n",
    "                i = i+1\n",
    "                j = j+1\n",
    "            i=i+2\n",
    "            j=j+2\n",
    "        if i<=len(point)-1 and point[i]!=']':\n",
    "            material+=point[i]\n",
    "        i=i+1\n",
    "        j=j+1\n",
    "    thirdlist.append(material)\n",
    "\n",
    "for point in thirdlist :\n",
    "    print(point)"
   ]
  },
  {
   "cell_type": "code",
   "execution_count": 70,
   "id": "17236e8e",
   "metadata": {},
   "outputs": [],
   "source": [
    "#now writing the completely preprocessed text into itm file:for example\n",
    "\n",
    "#a new repo is to be made for all the final files though \n",
    "for item in thirdlist :\n",
    "    file3.write(item)\n",
    "file3.close()"
   ]
  },
  {
   "cell_type": "code",
   "execution_count": 71,
   "id": "26a89bad",
   "metadata": {},
   "outputs": [],
   "source": [
    "#nltk working \n",
    "import nltk\n",
    "from nltk.corpus import stopwords\n",
    "#print(stopwords.words('english'))\n",
    "from nltk.tokenize import word_tokenize #for tokenization \n",
    "\n",
    "\n",
    "#open the file and read\n",
    "file4 = open(r\"C:\\Users\\kanis\\Major-Project\\Intermediate\\itm01.txt\",\"r+\")\n",
    "Lines = file4.readlines()\n",
    "\n",
    "\n",
    "stop_words = set(stopwords.words('english'))\n",
    "\n",
    "#additional stopwords \n",
    "stop_words.add(',')\n",
    "stop_words.add(\"'\")\n",
    "stop_words.add('.')\n",
    "stop_words.add('(')\n",
    "stop_words.add(')')\n",
    "stop_words.add('\"\"')\n",
    "stop_words.add(\"''\")\n",
    "stop_words.add('`')\n",
    "stop_words.add('~')\n",
    "stop_words.add(':')\n",
    "stop_words.add(';')\n",
    "stop_words.add('!')\n",
    "stop_words.add('”')\n",
    "stop_words.add(\"'re\")\n",
    "stop_words.add(\"'s\")\n",
    "stop_words.add(\"ca\")\n",
    "stop_words.add(\"n't\")\n",
    "stop_words.add(\"``\")\n",
    "stop_words.add(\"'ll\")\n",
    "stop_words.add(\"'ld\")\n",
    "\n",
    "from nltk.stem.wordnet import WordNetLemmatizer\n",
    "from nltk.util import ngrams #for generating any n grams\n",
    "\n",
    "check = []\n",
    "\n",
    "finallemma = []\n",
    "\n",
    "for line in Lines :\n",
    "    \n",
    "    word_tokens = word_tokenize(line)\n",
    "    filtered_tokens = []\n",
    "    \n",
    "    for w in word_tokens:\n",
    "        \n",
    "        if w.lower() not in stop_words:\n",
    "            filtered_tokens.append(w)\n",
    "    #print(filtered_tokens)\n",
    "    \n",
    "    lemmed = [WordNetLemmatizer().lemmatize(w) for w in filtered_tokens]  #lemmatization \n",
    "    finallemma.append(lemmed)\n",
    "    \n",
    "    #print(lemmed)\n",
    "    \n",
    "    bigrm = list(nltk.bigrams(filtered_tokens))\n",
    "    trigrams = list(ngrams(filtered_tokens,3))\n",
    "    "
   ]
  },
  {
   "cell_type": "code",
   "execution_count": 76,
   "id": "f3cb4c91",
   "metadata": {},
   "outputs": [
    {
     "name": "stdout",
     "output_type": "stream",
     "text": [
      "{'Possibly': 1, 'easiest': 2, 'thing': 4, 'watch': 2, 'television': 1, 'show': 2, 'movie': 2, 'language': 15, 'trying': 2, 'learn': 7, 'Try': 2, 'avoid': 1, 'subtitle': 1, 'donâ€™t': 3, 'develop': 1, 'reliance': 1, 'make': 1, 'easier': 1, 'try': 1, 'whose': 1, 'plot': 1, 'already': 1, 'familiar': 1, 'withâ€': 1, 'like': 2, 'kid': 1, 'cartoon': 1, 'dubbed': 1, 'version': 3, 'English': 1, 'movieâ€': 1, 'knowing': 1, 'context': 2, 'help': 5, 'decipher': 1, 'meaning': 2, 'word': 12, 'phrase': 4, 'level': 1, 'progress': 1, 'move': 1, 'advanced': 1, 'reading': 4, 'material': 1, 'newspaper': 1, 'magazine': 1, 'read': 1, 'loud': 1, 'rather': 2, 'silently': 1, 'work': 1, 'overall': 1, 'comprehension': 1, 'pronunciation': 3, 'skill': 1, 'Rather': 1, 'translate': 1, 'force': 1, 'think': 1, 'Mastering': 2, 'everyday': 2, 'conversation': 3, 'let': 1, 'hit': 1, 'ground': 1, 'running': 1, 'Itâ€™s': 1, 'important': 4, 'master': 1, 'basic': 2, 'youâ€™ll': 3, 'use': 1, 'frequently': 1, 'start': 1, 'learning': 10, 'alphabet': 1, 'perfect': 1, 'sentence': 3, 'structure': 1, 'vocabulary': 1, 'probably': 2, 'one': 3, 'new': 5, 'Even': 1, 'understand': 3, 'whole': 1, 'ability': 1, 'pick': 1, 'keywords': 1, 'general': 1, 'speech': 2, 'text': 1, 'point': 1, 'memorizing': 2, 'hundred': 2, 'pronounce': 1, 'oddly': 1, 'understood': 1, 'Therefore': 1, 'simultaneously': 1, 'reason': 1, 'people': 2, 'remember': 2, 'spent': 1, 'year': 3, 'school': 2, 'curriculum': 1, 'tend': 1, 'focus': 1, 'huge': 1, 'amount': 1, 'time': 5, 'grammar': 3, 'little': 1, 'comprehensible': 1, 'output': 1, 'pretty': 1, 'much': 2, 'backwardsâ€': 1, 'want': 2, 'quickly': 2, 'converse': 1, 'first': 2, 'specific': 1, 'come': 1, 'later': 1, 'Start': 1, 'clear': 1, 'goal': 1, 'count': 2, 'ten': 2, 'since': 1, '1-10': 1, 'usually': 1, 'memorize': 3, 'day': 4, 'set': 1, 'number': 2, 'keep': 1, 'going': 3, 'satisfied': 1, 'high': 1, 'challenge': 1, 'turn': 1, 'better': 2, 'greater': 1, 'ease': 1, 'Plus': 1, 'sounding': 1, 'looking': 2, 'romanization': 1, 'often': 2, 'spend': 2, 'studying': 2, 'list': 1, 'instead': 1, 'actually': 1, 'putting': 1, \"'ve\": 1, 'learned': 1, 'practice': 1, 'Speaking': 1, 'real': 1, 'live': 1, 'person': 1, 'feel': 1, 'motivated': 1, 'staring': 1, 'book': 1, 'computer': 1, 'screen': 1, 'Carrying': 1, 'dictionary': 1, 'allow': 1, 'find': 2, 'necessary': 1, 'moment': 1, 'notice': 1, 'especially': 1, 'native': 2, 'speaker': 2, 'wish': 1, 'disrupt': 1, 'flow': 1, 'able': 1, 'addition': 1, 'using': 1, 'immediately': 1, 'commit': 2, 'memory': 1, 'apps': 1, 'offer': 2, 'free': 1, 'pro/premium': 1, 'access': 1, 'additional': 1, 'lesson': 1, 'feature': 1, 'Weâ€™ll': 1, 'breakdown': 1, 'app': 1, 'People': 1, 'claim': 1, 'studied': 2, 'five': 2, 'still': 1, 'fluent': 1, 'say': 1, 'mean': 1, 'couple': 2, 'hour': 2, 'week': 2, 'entire': 1, 'period': 1, 'space': 1, 'month': 1, 'per': 1, 'get': 2, 'youâ€™re': 1, 'okay': 1, 'making': 1, 'mistake': 1, 'might': 1, 'situation': 1, 'quite': 1, 'know': 1, 'right': 1, '100': 1, '%': 1, 'personâ€™s': 1, 'saying': 1, 'Thatâ€™s': 1, 'normal': 1, 'part': 1, 'language-learning': 1, 'process': 1, 'visit': 1, 'country': 1, 'spoken': 1, 'connect': 1, 'Learning': 1, 'within': 1, 'culture': 1, 'life': 1, 'boost': 1, 'motivation': 1, 'hands-on': 1, 'experience': 1}\n"
     ]
    }
   ],
   "source": [
    "#creating the dictionary \n",
    "from collections import Counter\n",
    "    \n",
    "counts = dict()\n",
    "for lis in finallemma:\n",
    "    for item in lis:\n",
    "        counts[item] = counts.get(item,0)+1\n",
    "        \n",
    "#print(counts)\n"
   ]
  },
  {
   "cell_type": "code",
   "execution_count": 74,
   "id": "4b0fe8af",
   "metadata": {},
   "outputs": [
    {
     "name": "stdout",
     "output_type": "stream",
     "text": [
      "^C\n",
      "Note: you may need to restart the kernel to use updated packages.\n"
     ]
    }
   ],
   "source": []
  },
  {
   "cell_type": "code",
   "execution_count": null,
   "id": "d0ebe2c0",
   "metadata": {},
   "outputs": [],
   "source": []
  }
 ],
 "metadata": {
  "kernelspec": {
   "display_name": "Python 3",
   "language": "python",
   "name": "python3"
  },
  "language_info": {
   "codemirror_mode": {
    "name": "ipython",
    "version": 3
   },
   "file_extension": ".py",
   "mimetype": "text/x-python",
   "name": "python",
   "nbconvert_exporter": "python",
   "pygments_lexer": "ipython3",
   "version": "3.8.8"
  }
 },
 "nbformat": 4,
 "nbformat_minor": 5
}
