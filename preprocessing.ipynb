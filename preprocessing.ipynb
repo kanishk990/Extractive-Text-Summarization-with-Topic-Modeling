{
 "cells": [
  {
   "cell_type": "code",
   "execution_count": 35,
   "id": "8b3d83f5",
   "metadata": {
    "scrolled": false
   },
   "outputs": [],
   "source": [
    "#reading the file \n",
    "from pathlib import Path\n",
    "\n",
    "file_path = Path(r\"C:\\Users\\kanis\\Major-Project\\wikihowRawArticles\\article01\")\n",
    "f = open(file_path)"
   ]
  },
  {
   "cell_type": "code",
   "execution_count": 36,
   "id": "4139e0b5",
   "metadata": {},
   "outputs": [],
   "source": [
    "#to trim all the steps from the clutter\n",
    "def findsteps():\n",
    "    print(\"got steps\")"
   ]
  },
  {
   "cell_type": "code",
   "execution_count": 37,
   "id": "a4c8f978",
   "metadata": {
    "scrolled": false
   },
   "outputs": [],
   "source": [
    "#taking the only steps \n",
    "Lines = f.readlines()\n",
    "\n",
    "\n",
    "#open the file that will contain the refernce summary \n",
    "file2 = open(r\"C:\\Users\\kanis\\Major-Project\\References\\ref01.txt\",\"w+\")\n",
    "\n",
    "for line in Lines :\n",
    "    if line[0] == '#'and line[1]!='*':\n",
    "        material = \"\"\n",
    "        temp = 1\n",
    "        for char in line :\n",
    "            if temp == 1 :\n",
    "                temp =0  #check to remove hash \n",
    "            else :\n",
    "                material += char\n",
    "            if char == '.':\n",
    "                break;\n",
    "        file2.write(material)\n"
   ]
  },
  {
   "cell_type": "code",
   "execution_count": 48,
   "id": "bb207019",
   "metadata": {
    "scrolled": true
   },
   "outputs": [],
   "source": []
  },
  {
   "cell_type": "code",
   "execution_count": null,
   "id": "17236e8e",
   "metadata": {},
   "outputs": [],
   "source": []
  }
 ],
 "metadata": {
  "kernelspec": {
   "display_name": "Python 3",
   "language": "python",
   "name": "python3"
  },
  "language_info": {
   "codemirror_mode": {
    "name": "ipython",
    "version": 3
   },
   "file_extension": ".py",
   "mimetype": "text/x-python",
   "name": "python",
   "nbconvert_exporter": "python",
   "pygments_lexer": "ipython3",
   "version": "3.8.8"
  }
 },
 "nbformat": 4,
 "nbformat_minor": 5
}
