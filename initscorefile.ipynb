{
 "cells": [
  {
   "cell_type": "code",
   "execution_count": 5,
   "id": "92da1d36",
   "metadata": {},
   "outputs": [],
   "source": [
    "import pickle\n",
    "with open(r\"C:\\Users\\kanis\\Major-Project\\ldascore.pkl\",\"wb\") as fp:\n",
    "    pickle.dump([10],fp)\n",
    "with open(r\"C:\\Users\\kanis\\Major-Project\\ldascore_lex.pkl\",\"wb\") as fp:\n",
    "    pickle.dump([10],fp)\n",
    "with open(r\"C:\\Users\\kanis\\Major-Project\\lexldascore.pkl\",\"wb\") as fp:\n",
    "    pickle.dump([10],fp)\n",
    "with open(r\"C:\\Users\\kanis\\Major-Project\\slidingwindowscore.pkl\",\"wb\") as fp:\n",
    "    pickle.dump([10],fp)"
   ]
  },
  {
   "cell_type": "code",
   "execution_count": null,
   "id": "aec50066",
   "metadata": {},
   "outputs": [],
   "source": []
  }
 ],
 "metadata": {
  "kernelspec": {
   "display_name": "Python 3 (ipykernel)",
   "language": "python",
   "name": "python3"
  },
  "language_info": {
   "codemirror_mode": {
    "name": "ipython",
    "version": 3
   },
   "file_extension": ".py",
   "mimetype": "text/x-python",
   "name": "python",
   "nbconvert_exporter": "python",
   "pygments_lexer": "ipython3",
   "version": "3.8.8"
  }
 },
 "nbformat": 4,
 "nbformat_minor": 5
}
