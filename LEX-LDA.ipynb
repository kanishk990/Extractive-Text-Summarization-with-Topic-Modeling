{
 "cells": [
  {
   "cell_type": "code",
   "execution_count": 1,
   "id": "4ba56ffb",
   "metadata": {},
   "outputs": [],
   "source": [
    "import nltk\n",
    "from nltk.corpus import stopwords\n",
    "from sklearn.feature_extraction.text import CountVectorizer\n"
   ]
  },
  {
   "cell_type": "code",
   "execution_count": 7,
   "id": "ee18b959",
   "metadata": {},
   "outputs": [
    {
     "name": "stdout",
     "output_type": "stream",
     "text": [
      "35\n"
     ]
    }
   ],
   "source": [
    "file1 = open(r\"C:\\Users\\kanis\\Major-Project\\Intermediate\\itm01.txt\",\"r+\")\n",
    "\n",
    "from nltk import tokenize\n",
    "Lines = file1.readlines()\n",
    "#print(Lines)\n",
    "x = \"\"\n",
    "for line in Lines:\n",
    "    x = x + line\n",
    "#print(x)\n",
    "tksen = tokenize.sent_tokenize(x)\n",
    "print(len(tksen))"
   ]
  },
  {
   "cell_type": "code",
   "execution_count": null,
   "id": "aa5490ae",
   "metadata": {},
   "outputs": [],
   "source": []
  }
 ],
 "metadata": {
  "kernelspec": {
   "display_name": "Python 3 (ipykernel)",
   "language": "python",
   "name": "python3"
  },
  "language_info": {
   "codemirror_mode": {
    "name": "ipython",
    "version": 3
   },
   "file_extension": ".py",
   "mimetype": "text/x-python",
   "name": "python",
   "nbconvert_exporter": "python",
   "pygments_lexer": "ipython3",
   "version": "3.8.8"
  }
 },
 "nbformat": 4,
 "nbformat_minor": 5
}
