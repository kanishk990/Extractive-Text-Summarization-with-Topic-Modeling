{
 "cells": [
  {
   "cell_type": "code",
   "execution_count": 34,
   "id": "fd89726c",
   "metadata": {},
   "outputs": [],
   "source": [
    "import pickle"
   ]
  },
  {
   "cell_type": "code",
   "execution_count": 35,
   "id": "8eee8659",
   "metadata": {},
   "outputs": [
    {
     "name": "stdout",
     "output_type": "stream",
     "text": [
      "4\n"
     ]
    }
   ],
   "source": [
    "file1 = open(r\"C:\\Users\\kanis\\Major-Project\\References\\ref01.txt\",\"r+\") \n",
    "file2 = open(r\"C:\\Users\\kanis\\Major-Project\\Generated Summary\\gen_sum01.pkl\",\"rb\")\n",
    "\n",
    "listsave = pickle.load(file2)\n",
    "Lines1 = file1.read()\n",
    "\n",
    "print(len(listsave))\n",
    "##ref summary was needed to be modified now present in modLine1\n",
    "ref= \"\"\n",
    "for char in Lines1:\n",
    "    if char == '.':\n",
    "        ref += char\n",
    "        ref += ' '\n",
    "    else :\n",
    "        ref += char\n",
    "#print(ref)\n",
    "\n",
    "\n",
    "#genrated summary in line2\n",
    "textrank = listsave[0] #textrank\n",
    "#print(textrank)\n",
    "lexrank = listsave[1] #lexrank\n",
    "summarylex = listsave[2]\n",
    "slidingwindowsumm = listsave[3]\n",
    "def cater(text):\n",
    "    str = \"\"\n",
    "    for line in text:\n",
    "        str+=line\n",
    "        str+=' '\n",
    "    return str\n",
    "\n",
    "summarylex = cater(summarylex)\n",
    "slidingwindowsumm = cater(slidingwindowsumm)"
   ]
  },
  {
   "cell_type": "code",
   "execution_count": 36,
   "id": "c4f3b5ca",
   "metadata": {},
   "outputs": [],
   "source": [
    "from rouge_score import rouge_scorer"
   ]
  },
  {
   "cell_type": "code",
   "execution_count": 37,
   "id": "840cae76",
   "metadata": {},
   "outputs": [],
   "source": [
    "#textrank scores\n",
    "scorer = rouge_scorer.RougeScorer(['rouge1', 'rouge2','rougeL'], use_stemmer=True)\n",
    "scorest = scorer.score(ref,textrank)"
   ]
  },
  {
   "cell_type": "code",
   "execution_count": 38,
   "id": "9d1b243d",
   "metadata": {},
   "outputs": [
    {
     "name": "stdout",
     "output_type": "stream",
     "text": [
      "{'rouge1': Score(precision=0.3103448275862069, recall=0.39416058394160586, fmeasure=0.3472668810289389), 'rouge2': Score(precision=0.07514450867052024, recall=0.09558823529411764, fmeasure=0.08414239482200647), 'rougeL': Score(precision=0.15517241379310345, recall=0.19708029197080293, fmeasure=0.17363344051446944)}\n"
     ]
    }
   ],
   "source": [
    "print(scorest)"
   ]
  },
  {
   "cell_type": "code",
   "execution_count": 39,
   "id": "84748f17",
   "metadata": {},
   "outputs": [
    {
     "name": "stdout",
     "output_type": "stream",
     "text": [
      "{'rouge1': Score(precision=0.37857142857142856, recall=0.38686131386861317, fmeasure=0.38267148014440433), 'rouge2': Score(precision=0.10071942446043165, recall=0.10294117647058823, fmeasure=0.10181818181818181), 'rougeL': Score(precision=0.18571428571428572, recall=0.1897810218978102, fmeasure=0.18772563176895304)}\n"
     ]
    }
   ],
   "source": [
    "#lexrank scores\n",
    "scoresl = scorer.score(ref,lexrank)\n",
    "print(scoresl)"
   ]
  },
  {
   "cell_type": "code",
   "execution_count": 40,
   "id": "4622d40b",
   "metadata": {},
   "outputs": [
    {
     "name": "stdout",
     "output_type": "stream",
     "text": [
      "{'rouge1': Score(precision=0.22448979591836735, recall=0.5620437956204379, fmeasure=0.3208333333333333), 'rouge2': Score(precision=0.05847953216374269, recall=0.14705882352941177, fmeasure=0.08368200836820083), 'rougeL': Score(precision=0.119533527696793, recall=0.29927007299270075, fmeasure=0.17083333333333336)}\n"
     ]
    }
   ],
   "source": [
    "#summary with lex - LDA scores\n",
    "scoreslex = scorer.score(ref,summarylex)\n",
    "print(scoreslex)"
   ]
  },
  {
   "cell_type": "code",
   "execution_count": 41,
   "id": "9033aca8",
   "metadata": {},
   "outputs": [
    {
     "name": "stdout",
     "output_type": "stream",
     "text": [
      "{'rouge1': Score(precision=0.3617021276595745, recall=0.3722627737226277, fmeasure=0.3669064748201439), 'rouge2': Score(precision=0.05714285714285714, recall=0.058823529411764705, fmeasure=0.05797101449275362), 'rougeL': Score(precision=0.1702127659574468, recall=0.17518248175182483, fmeasure=0.1726618705035971)}\n"
     ]
    }
   ],
   "source": [
    "#summary with sliding window based sentence weighting\n",
    "scoresswsumm = scorer.score(ref,slidingwindowsumm)\n",
    "print(scoresswsumm)"
   ]
  },
  {
   "cell_type": "code",
   "execution_count": null,
   "id": "7814c77d",
   "metadata": {},
   "outputs": [],
   "source": []
  }
 ],
 "metadata": {
  "kernelspec": {
   "display_name": "Python 3 (ipykernel)",
   "language": "python",
   "name": "python3"
  },
  "language_info": {
   "codemirror_mode": {
    "name": "ipython",
    "version": 3
   },
   "file_extension": ".py",
   "mimetype": "text/x-python",
   "name": "python",
   "nbconvert_exporter": "python",
   "pygments_lexer": "ipython3",
   "version": "3.8.8"
  }
 },
 "nbformat": 4,
 "nbformat_minor": 5
}
