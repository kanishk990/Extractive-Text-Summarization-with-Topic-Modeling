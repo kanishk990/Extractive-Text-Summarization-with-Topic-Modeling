{
 "cells": [
  {
   "cell_type": "code",
   "execution_count": 33,
   "id": "fd89726c",
   "metadata": {},
   "outputs": [],
   "source": [
    "import pickle"
   ]
  },
  {
   "cell_type": "code",
   "execution_count": 43,
   "id": "8eee8659",
   "metadata": {},
   "outputs": [
    {
     "name": "stdout",
     "output_type": "stream",
     "text": [
      "Immersion can help you quickly improve your listening and speaking skills. Start at a basic level so you can learn easy vocab. Study smarter, not harder. Knowing a few keywords can help you grasp what someone is saying. Pronunciation is the key to being understood by native speakers. Focus on conveying a message and being understandable. Numbers will likely come up in everyday conversation. Learning the alphabet can improve your reading and pronunciation skills. Hands down, the best way to learn a new language is to speak it. Being able to look up unfamiliar words will save you time and frustration. Apps can make learning a new language fun and easy. Consistent study will get you quicker results. Aim for progress rather than perfection. Full immersion in a foreign language will speed up your path to fluency. \n",
      "Try to avoid subtitles, so you donâ€™t develop a reliance on them. To make things easier, try to watch shows or movies whose plots you are already familiar withâ€”like kids' cartoons or dubbed versions of English movieâ€”knowing the context will help you to decipher the meanings of words and phrases. Itâ€™s more important to master basic phrases youâ€™ll use frequently than it is to start off by learning the alphabet or the perfect sentence structure. Even if you can't understand whole sentences, the ability to pick out keywords can help you to understand the general meaning of a speech or text. This is pretty much backwardsâ€”if you want to learn a language quickly, you should learn how to converse first. Start off with clear goals. In turn, better reading and pronunciation can help you memorize words with greater ease. Plus, it is better for you to be sounding the words out rather than looking at the romanization for the words. \n"
     ]
    }
   ],
   "source": [
    "file1 = open(r\"C:\\Users\\kanis\\Major-Project\\References\\ref01.txt\",\"r+\") \n",
    "file2 = open(r\"C:\\Users\\kanis\\Major-Project\\Generated Summary\\gen_sum01.pkl\",\"rb\")\n",
    "\n",
    "listsave = pickle.load(file2)\n",
    "Lines1 = file1.read()\n",
    "\n",
    "##ref summary was needed to be modified now present in modLine1\n",
    "ref= \"\"\n",
    "for char in Lines1:\n",
    "    if char == '.':\n",
    "        ref += char\n",
    "        ref += ' '\n",
    "    else :\n",
    "        ref += char\n",
    "print(ref)\n",
    "\n",
    "\n",
    "#genrated summary in line2\n",
    "textrank = listsave[0] #textrank\n",
    "print(textrank)\n",
    "lexrank = listsave[1] #lexrank"
   ]
  },
  {
   "cell_type": "code",
   "execution_count": 44,
   "id": "c4f3b5ca",
   "metadata": {},
   "outputs": [],
   "source": [
    "from rouge_score import rouge_scorer"
   ]
  },
  {
   "cell_type": "code",
   "execution_count": 45,
   "id": "840cae76",
   "metadata": {},
   "outputs": [],
   "source": [
    "#textrank scores\n",
    "scorer = rouge_scorer.RougeScorer(['rouge1', 'rouge2','rougeL'], use_stemmer=True)\n",
    "scorest = scorer.score(ref,textrank)"
   ]
  },
  {
   "cell_type": "code",
   "execution_count": 46,
   "id": "9d1b243d",
   "metadata": {},
   "outputs": [
    {
     "name": "stdout",
     "output_type": "stream",
     "text": [
      "{'rouge1': Score(precision=0.33532934131736525, recall=0.40875912408759124, fmeasure=0.368421052631579), 'rouge2': Score(precision=0.0963855421686747, recall=0.11764705882352941, fmeasure=0.10596026490066225), 'rougeL': Score(precision=0.15568862275449102, recall=0.1897810218978102, fmeasure=0.17105263157894737)}\n"
     ]
    }
   ],
   "source": [
    "print(scorest)"
   ]
  },
  {
   "cell_type": "code",
   "execution_count": 48,
   "id": "84748f17",
   "metadata": {},
   "outputs": [
    {
     "name": "stdout",
     "output_type": "stream",
     "text": [
      "{'rouge1': Score(precision=0.3236994219653179, recall=0.40875912408759124, fmeasure=0.3612903225806452), 'rouge2': Score(precision=0.08139534883720931, recall=0.10294117647058823, fmeasure=0.09090909090909091), 'rougeL': Score(precision=0.15606936416184972, recall=0.19708029197080293, fmeasure=0.17419354838709677)}\n"
     ]
    }
   ],
   "source": [
    "#lexrank scores\n",
    "scoresl = scorer.score(ref,lexrank)\n",
    "print(scoresl)"
   ]
  },
  {
   "cell_type": "code",
   "execution_count": null,
   "id": "462ff7eb",
   "metadata": {},
   "outputs": [],
   "source": []
  }
 ],
 "metadata": {
  "kernelspec": {
   "display_name": "Python 3 (ipykernel)",
   "language": "python",
   "name": "python3"
  },
  "language_info": {
   "codemirror_mode": {
    "name": "ipython",
    "version": 3
   },
   "file_extension": ".py",
   "mimetype": "text/x-python",
   "name": "python",
   "nbconvert_exporter": "python",
   "pygments_lexer": "ipython3",
   "version": "3.8.8"
  }
 },
 "nbformat": 4,
 "nbformat_minor": 5
}
