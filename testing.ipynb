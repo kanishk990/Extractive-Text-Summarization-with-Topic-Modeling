{
 "cells": [
  {
   "cell_type": "code",
   "execution_count": 49,
   "id": "fd89726c",
   "metadata": {},
   "outputs": [],
   "source": [
    "import pickle"
   ]
  },
  {
   "cell_type": "code",
   "execution_count": 50,
   "id": "8eee8659",
   "metadata": {},
   "outputs": [
    {
     "name": "stdout",
     "output_type": "stream",
     "text": [
      "Immersion can help you quickly improve your listening and speaking skills. Start at a basic level so you can learn easy vocab. Study smarter, not harder. Knowing a few keywords can help you grasp what someone is saying. Pronunciation is the key to being understood by native speakers. Focus on conveying a message and being understandable. Numbers will likely come up in everyday conversation. Learning the alphabet can improve your reading and pronunciation skills. Hands down, the best way to learn a new language is to speak it. Being able to look up unfamiliar words will save you time and frustration. Apps can make learning a new language fun and easy. Consistent study will get you quicker results. Aim for progress rather than perfection. Full immersion in a foreign language will speed up your path to fluency. \n",
      "Rather than trying to translate each phrase, force yourself to think in the language you're reading. Mastering everyday conversation will let you hit the ground running. There's no point in memorizing hundreds of words and phrases if you pronounce them so oddly that they can't be understood. The reason why most people can't remember most of the language they spent years learning in school is that school curricula tend to focus a huge amount of time on learning grammar and very little time on speech (or \"comprehensible output\"). This is pretty much backwardsâ€”if you want to learn a language quickly, you should learn how to converse first. Try learning to count to ten since 1-10 is usually the easiest thing to memorize at first. Plus, it is better for you to be sounding the words out rather than looking at the romanization for the words. \n"
     ]
    }
   ],
   "source": [
    "file1 = open(r\"C:\\Users\\kanis\\Major-Project\\References\\ref01.txt\",\"r+\") \n",
    "file2 = open(r\"C:\\Users\\kanis\\Major-Project\\Generated Summary\\gen_sum01.pkl\",\"rb\")\n",
    "\n",
    "listsave = pickle.load(file2)\n",
    "Lines1 = file1.read()\n",
    "\n",
    "##ref summary was needed to be modified now present in modLine1\n",
    "ref= \"\"\n",
    "for char in Lines1:\n",
    "    if char == '.':\n",
    "        ref += char\n",
    "        ref += ' '\n",
    "    else :\n",
    "        ref += char\n",
    "print(ref)\n",
    "\n",
    "\n",
    "#genrated summary in line2\n",
    "textrank = listsave[0] #textrank\n",
    "print(textrank)\n",
    "lexrank = listsave[1] #lexrank"
   ]
  },
  {
   "cell_type": "code",
   "execution_count": 51,
   "id": "c4f3b5ca",
   "metadata": {},
   "outputs": [],
   "source": [
    "from rouge_score import rouge_scorer"
   ]
  },
  {
   "cell_type": "code",
   "execution_count": 52,
   "id": "840cae76",
   "metadata": {},
   "outputs": [],
   "source": [
    "#textrank scores\n",
    "scorer = rouge_scorer.RougeScorer(['rouge1', 'rouge2','rougeL'], use_stemmer=True)\n",
    "scorest = scorer.score(ref,textrank)"
   ]
  },
  {
   "cell_type": "code",
   "execution_count": 53,
   "id": "9d1b243d",
   "metadata": {},
   "outputs": [
    {
     "name": "stdout",
     "output_type": "stream",
     "text": [
      "{'rouge1': Score(precision=0.33112582781456956, recall=0.36496350364963503, fmeasure=0.3472222222222222), 'rouge2': Score(precision=0.04, recall=0.04411764705882353, fmeasure=0.04195804195804196), 'rougeL': Score(precision=0.1456953642384106, recall=0.16058394160583941, fmeasure=0.15277777777777776)}\n"
     ]
    }
   ],
   "source": [
    "print(scorest)"
   ]
  },
  {
   "cell_type": "code",
   "execution_count": 54,
   "id": "84748f17",
   "metadata": {},
   "outputs": [
    {
     "name": "stdout",
     "output_type": "stream",
     "text": [
      "{'rouge1': Score(precision=0.34838709677419355, recall=0.39416058394160586, fmeasure=0.3698630136986301), 'rouge2': Score(precision=0.08441558441558442, recall=0.09558823529411764, fmeasure=0.0896551724137931), 'rougeL': Score(precision=0.15483870967741936, recall=0.17518248175182483, fmeasure=0.16438356164383564)}\n"
     ]
    }
   ],
   "source": [
    "#lexrank scores\n",
    "scoresl = scorer.score(ref,lexrank)\n",
    "print(scoresl)"
   ]
  },
  {
   "cell_type": "code",
   "execution_count": null,
   "id": "4622d40b",
   "metadata": {},
   "outputs": [],
   "source": []
  }
 ],
 "metadata": {
  "kernelspec": {
   "display_name": "Python 3 (ipykernel)",
   "language": "python",
   "name": "python3"
  },
  "language_info": {
   "codemirror_mode": {
    "name": "ipython",
    "version": 3
   },
   "file_extension": ".py",
   "mimetype": "text/x-python",
   "name": "python",
   "nbconvert_exporter": "python",
   "pygments_lexer": "ipython3",
   "version": "3.8.8"
  }
 },
 "nbformat": 4,
 "nbformat_minor": 5
}
