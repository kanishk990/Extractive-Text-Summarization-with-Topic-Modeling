{
 "cells": [
  {
   "cell_type": "code",
   "execution_count": 1,
   "id": "fd89726c",
   "metadata": {},
   "outputs": [],
   "source": [
    "import pickle"
   ]
  },
  {
   "cell_type": "code",
   "execution_count": 2,
   "id": "8eee8659",
   "metadata": {},
   "outputs": [
    {
     "name": "stdout",
     "output_type": "stream",
     "text": [
      "4\n"
     ]
    }
   ],
   "source": [
    "file1 = open(r\"C:\\Users\\kanis\\Major-Project\\References\\ref01.txt\",\"r+\") \n",
    "file2 = open(r\"C:\\Users\\kanis\\Major-Project\\Generated Summary\\gen_sum01.pkl\",\"rb\")\n",
    "\n",
    "listsave = pickle.load(file2)\n",
    "Lines1 = file1.read()\n",
    "\n",
    "print(len(listsave))\n",
    "##ref summary was needed to be modified now present in modLine1\n",
    "ref= \"\"\n",
    "for char in Lines1:\n",
    "    if char == '.':\n",
    "        ref += char\n",
    "        ref += ' '\n",
    "    else :\n",
    "        ref += char\n",
    "#print(ref)\n",
    "\n",
    "\n",
    "#genrated summary in line2\n",
    "textrank = listsave[0] #textrank\n",
    "#print(textrank)\n",
    "lexrank = listsave[1] #lexrank\n",
    "summarylex = listsave[2]\n",
    "slidingwindowsumm = listsave[3]\n",
    "def cater(text):\n",
    "    str = \"\"\n",
    "    for line in text:\n",
    "        str+=line\n",
    "        str+=' '\n",
    "    return str\n",
    "\n",
    "summarylex = cater(summarylex)\n",
    "slidingwindowsumm = cater(slidingwindowsumm)"
   ]
  },
  {
   "cell_type": "code",
   "execution_count": 3,
   "id": "c4f3b5ca",
   "metadata": {},
   "outputs": [],
   "source": [
    "from rouge_score import rouge_scorer"
   ]
  },
  {
   "cell_type": "code",
   "execution_count": 4,
   "id": "840cae76",
   "metadata": {},
   "outputs": [],
   "source": [
    "#textrank scores\n",
    "scorer = rouge_scorer.RougeScorer(['rouge1', 'rouge2','rougeL'], use_stemmer=True)\n",
    "scorest = scorer.score(ref,textrank)"
   ]
  },
  {
   "cell_type": "code",
   "execution_count": 5,
   "id": "9d1b243d",
   "metadata": {},
   "outputs": [
    {
     "name": "stdout",
     "output_type": "stream",
     "text": [
      "{'rouge1': Score(precision=0.38596491228070173, recall=0.48175182481751827, fmeasure=0.4285714285714286), 'rouge2': Score(precision=0.10588235294117647, recall=0.1323529411764706, fmeasure=0.11764705882352941), 'rougeL': Score(precision=0.18128654970760233, recall=0.22627737226277372, fmeasure=0.20129870129870128)}\n"
     ]
    }
   ],
   "source": [
    "print(scorest)"
   ]
  },
  {
   "cell_type": "code",
   "execution_count": 6,
   "id": "84748f17",
   "metadata": {},
   "outputs": [
    {
     "name": "stdout",
     "output_type": "stream",
     "text": [
      "{'rouge1': Score(precision=0.3136094674556213, recall=0.38686131386861317, fmeasure=0.34640522875817), 'rouge2': Score(precision=0.08333333333333333, recall=0.10294117647058823, fmeasure=0.09210526315789472), 'rougeL': Score(precision=0.14201183431952663, recall=0.17518248175182483, fmeasure=0.15686274509803924)}\n"
     ]
    }
   ],
   "source": [
    "#lexrank scores\n",
    "scoresl = scorer.score(ref,lexrank)\n",
    "print(scoresl)"
   ]
  },
  {
   "cell_type": "code",
   "execution_count": 7,
   "id": "4622d40b",
   "metadata": {},
   "outputs": [
    {
     "name": "stdout",
     "output_type": "stream",
     "text": [
      "{'rouge1': Score(precision=0.229607250755287, recall=0.5547445255474452, fmeasure=0.32478632478632474), 'rouge2': Score(precision=0.05757575757575758, recall=0.13970588235294118, fmeasure=0.08154506437768241), 'rougeL': Score(precision=0.11782477341389729, recall=0.2846715328467153, fmeasure=0.16666666666666666)}\n"
     ]
    }
   ],
   "source": [
    "#summary with lex - LDA scores\n",
    "scoreslex = scorer.score(ref,summarylex)\n",
    "print(scoreslex)"
   ]
  },
  {
   "cell_type": "code",
   "execution_count": 8,
   "id": "9033aca8",
   "metadata": {},
   "outputs": [
    {
     "name": "stdout",
     "output_type": "stream",
     "text": [
      "{'rouge1': Score(precision=0.3617021276595745, recall=0.3722627737226277, fmeasure=0.3669064748201439), 'rouge2': Score(precision=0.05714285714285714, recall=0.058823529411764705, fmeasure=0.05797101449275362), 'rougeL': Score(precision=0.1702127659574468, recall=0.17518248175182483, fmeasure=0.1726618705035971)}\n"
     ]
    }
   ],
   "source": [
    "#summary with sliding window based sentence weighting\n",
    "scoresswsumm = scorer.score(ref,slidingwindowsumm)\n",
    "print(scoresswsumm)"
   ]
  },
  {
   "cell_type": "code",
   "execution_count": 13,
   "id": "7814c77d",
   "metadata": {},
   "outputs": [
    {
     "name": "stdout",
     "output_type": "stream",
     "text": [
      "textrank + LDA:\n",
      "When you read out loud, rather than silently, you can work on both your overall reading comprehension and pronunciation skills. Mastering basic vocabulary is probably one of the most important things you can do when learning a new language. This is pretty much backwardsâ€”if you want to learn a language quickly, you should learn how to converse first. Each day learn a new set of ten numbers, keep going each day until you are satisfied with how high you can count. In turn, better reading and pronunciation can help you memorize words with greater ease. Plus, it is better for you to be sounding the words out rather than looking at the romanization for the words. Too often, people spend all of their time studying grammar and memorizing lists of words instead of actually going out there and putting what they've learned into practice. If you can visit and spend some time in a country where your new language is spoken, youâ€™ll get to connect with native speakers. \n",
      "\n",
      "lexrank + LDA:\n",
      "Possibly the easiest thing you can do is watch television shows or movies in the language you are trying to learn. Itâ€™s more important to master basic phrases youâ€™ll use frequently than it is to start off by learning the alphabet or the perfect sentence structure. Mastering basic vocabulary is probably one of the most important things you can do when learning a new language. Rather than trying to translate each phrase, force yourself to think in the language you're reading. Start off with clear goals. To make things easier, try to watch shows or movies whose plots you are already familiar withâ€”like kids' cartoons or dubbed versions of English movieâ€”knowing the context will help you to decipher the meanings of words and phrases. Try to avoid subtitles, so you donâ€™t develop a reliance on them. Even if you can't understand whole sentences, the ability to pick out keywords can help you to understand the general meaning of a speech or text. \n",
      "\n",
      "Lex-LDA:\n",
      "['Possibly the easiest thing you can do is watch television shows or movies in the language you are trying to learn.', 'As your language level progresses, you can move on to more advanced reading material like newspapers and magazines.', \"Rather than trying to translate each phrase, force yourself to think in the language you're reading.\", \"Therefore, it's important that when you learn a word, you learn the pronunciation simultaneously.\", 'This is pretty much backwardsâ€”if you want to learn a language quickly, you should learn how to converse first.', 'Try learning to count to ten since 1-10 is usually the easiest thing to memorize at first.', 'Each day learn a new set of ten numbers, keep going each day until you are satisfied with how high you can count.', 'If you are up for a challenge, memorize all the numbers up to one hundred in one day.', 'In turn, better reading and pronunciation can help you memorize words with greater ease.', 'Plus, it is better for you to be sounding the words out rather than looking at the romanization for the words.', 'Speaking with a real, live person will help you to feel much more motivated about learning the language than staring at a book or computer screen.', \"Carrying a dictionary will allow you to find the necessary word at a moment's notice.\", 'In addition, looking up the word and using it immediately in a sentence will help you to commit the word to memory.', 'Most language learning apps offer both a free version and a pro/premium version with more access to additional lessons and features.', 'Weâ€™ll breakdown each app below:\\nPeople often claim to have studied a language \"for five years\" and still not be fluent.', \"If you want to learn a new language ''quickly'' (that is, in the space of a few weeks or months), you're going to have to commit to studying the language for a couple of hours ''per day''.\"]\n",
      "\n",
      "LDA-SWSW:\n",
      "['Possibly the easiest thing you can do is watch television shows or movies in the language you are trying to learn.', \"To make things easier, try to watch shows or movies whose plots you are already familiar withâ€”like kids' cartoons or dubbed versions of English movieâ€”knowing the context will help you to decipher the meanings of words and phrases.\", 'As your language level progresses, you can move on to more advanced reading material like newspapers and magazines.', 'Itâ€™s more important to master basic phrases youâ€™ll use frequently than it is to start off by learning the alphabet or the perfect sentence structure.', \"Therefore, it's important that when you learn a word, you learn the pronunciation simultaneously.\", 'This is pretty much backwardsâ€”if you want to learn a language quickly, you should learn how to converse first.']\n",
      "\n"
     ]
    }
   ],
   "source": [
    "name = ['textrank + LDA', 'lexrank + LDA', 'Lex-LDA', 'LDA-SWSW']\n",
    "for i in range(len(listsave)):\n",
    "    print(str(name[i])+':')\n",
    "    print(listsave[i])\n",
    "    print()"
   ]
  },
  {
   "cell_type": "code",
   "execution_count": 10,
   "id": "4e90d56a",
   "metadata": {},
   "outputs": [],
   "source": [
    "#lda read \n",
    "file1 = open(r\"C:\\Users\\kanis\\Major-Project\\ldascore.pkl\",\"rb\")\n",
    "lista = pickle.load(file1)\n",
    "lista.append(scorest)\n",
    "file1.close()\n",
    "\n",
    "#lda write \n",
    "file1 = open(r\"C:\\Users\\kanis\\Major-Project\\ldascore.pkl\",\"wb\")\n",
    "pickle.dump(lista,file1)\n",
    "file1.close()\n",
    "\n",
    "#lexical read \n",
    "file1 = open(r\"C:\\Users\\kanis\\Major-Project\\ldascore_lex.pkl\",\"rb\")\n",
    "listb = pickle.load(file1)\n",
    "listb.append(scoresl)\n",
    "file1.close()\n",
    "\n",
    "#lexical write\n",
    "file1 = open(r\"C:\\Users\\kanis\\Major-Project\\ldascore_lex.pkl\",\"wb\")\n",
    "pickle.dump(listb,file1)\n",
    "file1.close()\n",
    "\n",
    "#lexical lda read\n",
    "file1 = open(r\"C:\\Users\\kanis\\Major-Project\\lexldascore.pkl\",\"rb\")\n",
    "listc = pickle.load(file1)\n",
    "listc.append(scoreslex)\n",
    "file1.close()\n",
    "\n",
    "#lexical lda write\n",
    "file1 = open(r\"C:\\Users\\kanis\\Major-Project\\lexldascore.pkl\",\"wb\")\n",
    "pickle.dump(listc,file1)\n",
    "file1.close()\n",
    "\n",
    "\n",
    "#sliding window read \n",
    "file1 = open(r\"C:\\Users\\kanis\\Major-Project\\slidingwindowscore.pkl\",\"rb\")\n",
    "listd = pickle.load(file1)\n",
    "listd.append(scoresswsumm)\n",
    "file1.close()\n",
    "#sliding window write\n",
    "file1 = open(r\"C:\\Users\\kanis\\Major-Project\\slidingwindowscore.pkl\",\"wb\")\n",
    "pickle.dump(listc,file1)\n",
    "file1.close()\n"
   ]
  },
  {
   "cell_type": "code",
   "execution_count": null,
   "id": "eb02aec4",
   "metadata": {},
   "outputs": [],
   "source": []
  },
  {
   "cell_type": "code",
   "execution_count": null,
   "id": "01ddbaf3",
   "metadata": {},
   "outputs": [],
   "source": []
  }
 ],
 "metadata": {
  "kernelspec": {
   "display_name": "Python 3 (ipykernel)",
   "language": "python",
   "name": "python3"
  },
  "language_info": {
   "codemirror_mode": {
    "name": "ipython",
    "version": 3
   },
   "file_extension": ".py",
   "mimetype": "text/x-python",
   "name": "python",
   "nbconvert_exporter": "python",
   "pygments_lexer": "ipython3",
   "version": "3.8.8"
  }
 },
 "nbformat": 4,
 "nbformat_minor": 5
}
