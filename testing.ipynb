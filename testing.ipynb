{
 "cells": [
  {
   "cell_type": "code",
   "execution_count": 1,
   "id": "fd89726c",
   "metadata": {},
   "outputs": [],
   "source": [
    "import pickle"
   ]
  },
  {
   "cell_type": "code",
   "execution_count": 13,
   "id": "8eee8659",
   "metadata": {},
   "outputs": [],
   "source": [
    "file1 = open(r\"C:\\Users\\kanis\\Major-Project\\References\\ref01.txt\",\"r+\") \n",
    "file2 = open(r\"C:\\Users\\kanis\\Major-Project\\Generated Summary\\gen_sum01.pkl\",\"rb\")\n",
    "\n",
    "listsave = pickle.load(file2)\n",
    "Lines1 = file1.read()\n",
    "\n",
    "##ref summary was needed to be modified now present in modLine1\n",
    "ref= \"\"\n",
    "for char in Lines1:\n",
    "    if char == '.':\n",
    "        ref += char\n",
    "        ref += ' '\n",
    "    else :\n",
    "        ref += char\n",
    "#print(ref)\n",
    "\n",
    "\n",
    "#genrated summary in line2\n",
    "textrank = listsave[0] #textrank\n",
    "#print(textrank)\n",
    "lexrank = listsave[1] #lexrank\n",
    "summarylex = listsave[2]\n",
    "\n",
    "str = \"\"\n",
    "for line in summarylex:\n",
    "    str+=line\n",
    "    str+=' '\n",
    "#print(str)\n",
    "summarylex = str"
   ]
  },
  {
   "cell_type": "code",
   "execution_count": 14,
   "id": "c4f3b5ca",
   "metadata": {},
   "outputs": [],
   "source": [
    "from rouge_score import rouge_scorer"
   ]
  },
  {
   "cell_type": "code",
   "execution_count": 15,
   "id": "840cae76",
   "metadata": {},
   "outputs": [],
   "source": [
    "#textrank scores\n",
    "scorer = rouge_scorer.RougeScorer(['rouge1', 'rouge2','rougeL'], use_stemmer=True)\n",
    "scorest = scorer.score(ref,textrank)"
   ]
  },
  {
   "cell_type": "code",
   "execution_count": 16,
   "id": "9d1b243d",
   "metadata": {},
   "outputs": [
    {
     "name": "stdout",
     "output_type": "stream",
     "text": [
      "{'rouge1': Score(precision=0.3333333333333333, recall=0.44525547445255476, fmeasure=0.38125), 'rouge2': Score(precision=0.07692307692307693, recall=0.10294117647058823, fmeasure=0.0880503144654088), 'rougeL': Score(precision=0.14754098360655737, recall=0.19708029197080293, fmeasure=0.16874999999999998)}\n"
     ]
    }
   ],
   "source": [
    "print(scorest)"
   ]
  },
  {
   "cell_type": "code",
   "execution_count": 17,
   "id": "84748f17",
   "metadata": {},
   "outputs": [
    {
     "name": "stdout",
     "output_type": "stream",
     "text": [
      "{'rouge1': Score(precision=0.35570469798657717, recall=0.38686131386861317, fmeasure=0.3706293706293706), 'rouge2': Score(precision=0.07432432432432433, recall=0.08088235294117647, fmeasure=0.07746478873239437), 'rougeL': Score(precision=0.174496644295302, recall=0.1897810218978102, fmeasure=0.18181818181818182)}\n"
     ]
    }
   ],
   "source": [
    "#lexrank scores\n",
    "scoresl = scorer.score(ref,lexrank)\n",
    "print(scoresl)"
   ]
  },
  {
   "cell_type": "code",
   "execution_count": 18,
   "id": "4622d40b",
   "metadata": {},
   "outputs": [
    {
     "name": "stdout",
     "output_type": "stream",
     "text": [
      "{'rouge1': Score(precision=0.22448979591836735, recall=0.5620437956204379, fmeasure=0.3208333333333333), 'rouge2': Score(precision=0.05847953216374269, recall=0.14705882352941177, fmeasure=0.08368200836820083), 'rougeL': Score(precision=0.119533527696793, recall=0.29927007299270075, fmeasure=0.17083333333333336)}\n"
     ]
    }
   ],
   "source": [
    "#summary with lex - LDA scores\n",
    "scoreslex = scorer.score(ref,summarylex)\n",
    "print(scoreslex)"
   ]
  },
  {
   "cell_type": "code",
   "execution_count": null,
   "id": "f6ab254e",
   "metadata": {},
   "outputs": [],
   "source": []
  }
 ],
 "metadata": {
  "kernelspec": {
   "display_name": "Python 3 (ipykernel)",
   "language": "python",
   "name": "python3"
  },
  "language_info": {
   "codemirror_mode": {
    "name": "ipython",
    "version": 3
   },
   "file_extension": ".py",
   "mimetype": "text/x-python",
   "name": "python",
   "nbconvert_exporter": "python",
   "pygments_lexer": "ipython3",
   "version": "3.8.8"
  }
 },
 "nbformat": 4,
 "nbformat_minor": 5
}
